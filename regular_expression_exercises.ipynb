{
 "cells": [
  {
   "cell_type": "code",
   "execution_count": 8,
   "id": "8956e336-9bee-466b-ab31-b7081b1927fa",
   "metadata": {},
   "outputs": [],
   "source": [
    "import pandas as pd\n",
    "import re"
   ]
  },
  {
   "cell_type": "markdown",
   "id": "f50927d3-4c79-4a99-948e-c1ebded11689",
   "metadata": {},
   "source": [
    "1. Write a function named is_vowel. It should accept a string as input and use a regular expression to determine if the passed string is a vowel. While not explicity mentioned in the lesson, you can treat the result of re.search as a boolean value that indicates whether or not the regular expression matches the given string."
   ]
  },
  {
   "cell_type": "code",
   "execution_count": null,
   "id": "c286ad3c-eb1c-47f0-8db6-9834b9ddedb9",
   "metadata": {},
   "outputs": [],
   "source": [
    "def is_vowel(string):\n",
    "    \n",
    "    if string in r'[aeiouAEIOU]':\n",
    "        return True\n",
    "    else:\n",
    "        return False"
   ]
  },
  {
   "cell_type": "markdown",
   "id": "145f31b3-15d2-4982-abc3-6a5b4d6b834b",
   "metadata": {},
   "source": [
    "2. Write a function named is_valid_username that accepts a string as input. A valid username starts with a lowercase letter, and only consists of lowercase letters, numbers, or the _ character. It should also be no longer than 32 characters. The function should return either True or False depending on whether the passed string is a valid username."
   ]
  },
  {
   "cell_type": "code",
   "execution_count": null,
   "id": "0a195b22-2f9a-46a5-8a86-9e04b612312f",
   "metadata": {},
   "outputs": [],
   "source": [
    "def is_valid_username(string):\n",
    "    regex = r'^[a-z]\\w{1,31}$'\n",
    "    \n",
    "    if re.search(regex, string):\n",
    "        return True\n",
    "    else:\n",
    "        return False"
   ]
  },
  {
   "cell_type": "markdown",
   "id": "229897de-b99d-4be4-a795-d7aa84e80520",
   "metadata": {},
   "source": [
    "3. Write a regular expression to capture phone numbers. It should match all of the following:"
   ]
  },
  {
   "cell_type": "code",
   "execution_count": 9,
   "id": "09919c44-6e80-4f70-8747-2cbad82eea0a",
   "metadata": {},
   "outputs": [
    {
     "data": {
      "text/plain": [
       "<re.Match object; span=(0, 15), match='+1 210.867.5309'>"
      ]
     },
     "execution_count": 9,
     "metadata": {},
     "output_type": "execute_result"
    }
   ],
   "source": [
    "number = '+1 210.867.5309'\n",
    "\n",
    "regex = '\\D?(\\d)?\\D?(\\d{3})?\\D*(\\d{3})\\D*(\\d{4})'\n",
    "\n",
    "re.search(regex, number)"
   ]
  },
  {
   "cell_type": "code",
   "execution_count": 10,
   "id": "6f81e84b-e054-483a-97f2-0f34b8d69411",
   "metadata": {},
   "outputs": [
    {
     "data": {
      "text/plain": [
       "<re.Match object; span=(0, 8), match='867-5309'>"
      ]
     },
     "execution_count": 10,
     "metadata": {},
     "output_type": "execute_result"
    }
   ],
   "source": [
    "number = '867-5309'\n",
    "\n",
    "regex = '\\D?(\\d)?\\D?(\\d{3})?\\D*(\\d{3})\\D*(\\d{4})'\n",
    "\n",
    "re.search(regex, number)"
   ]
  },
  {
   "cell_type": "markdown",
   "id": "06530cb9-ba85-4e00-8e77-68e5cb17528b",
   "metadata": {},
   "source": [
    "4. Use regular expressions to convert the dates below to the standardized year-month-day format."
   ]
  },
  {
   "cell_type": "code",
   "execution_count": 11,
   "id": "e63c2ad4-a993-4543-b8a9-4892782dce5b",
   "metadata": {},
   "outputs": [],
   "source": [
    "# Put dates in a list\n",
    "# day/month/year\n",
    "dates = ['02/04/19', '02/05/19', '02/06/19', '02/07/19', '02/08/19', '02/09/19', '02/10/19']"
   ]
  },
  {
   "cell_type": "code",
   "execution_count": 12,
   "id": "194b440f-3571-42c7-aabb-880e0643e29f",
   "metadata": {},
   "outputs": [
    {
     "name": "stdout",
     "output_type": "stream",
     "text": [
      "19/04/02\n",
      "19/05/02\n",
      "19/06/02\n",
      "19/07/02\n",
      "19/08/02\n",
      "19/09/02\n",
      "19/10/02\n"
     ]
    }
   ],
   "source": [
    "regexp = r'(\\d{2})/(\\d{2})/(\\d{2})'\n",
    "\n",
    "for date in dates:\n",
    "    #re.search(regexp, date)\n",
    "    print(re.sub(regexp, r'\\3/\\2/\\1', date))\n"
   ]
  },
  {
   "cell_type": "markdown",
   "id": "42449518-8043-42b9-899a-95a72a34382c",
   "metadata": {},
   "source": [
    "5. Write a regex to extract the various parts of these logfile lines:"
   ]
  },
  {
   "cell_type": "code",
   "execution_count": 13,
   "id": "cebb2f65-331c-4626-b9c1-9506779ccb0a",
   "metadata": {},
   "outputs": [
    {
     "data": {
      "text/plain": [
       "[('GET',\n",
       "  '/api/v1/items?page=3',\n",
       "  '[16/Apr/2019:193453+0000]',\n",
       "  'HTTP/1.1',\n",
       "  '429',\n",
       "  '3561',\n",
       "  'python-requests/2.21.0',\n",
       "  '97.105.19.58')]"
      ]
     },
     "execution_count": 13,
     "metadata": {},
     "output_type": "execute_result"
    }
   ],
   "source": [
    "logline = 'GET /api/v1/items?page=3 [16/Apr/2019:193453+0000] HTTP/1.1 {429} 3561 \"python-requests/2.21.0\" 97.105.19.58'\n",
    "\n",
    "regex = r'''\n",
    "(^[A-Z]*)\\s\n",
    "(/\\S*)\\s\n",
    "(\\[\\S+\\])\\s\n",
    "([A-Z]*\\/\\d.\\d)\\s\n",
    "\\{(\\d{3})\\}\\s\n",
    "(\\d+)\\s\n",
    "\\\"(.+)\\\"\\s\n",
    "(\\d+.\\d+.\\d+.\\d+)\n",
    "'''\n",
    "\n",
    "re.findall(regex, logline, re.VERBOSE)"
   ]
  },
  {
   "cell_type": "code",
   "execution_count": 14,
   "id": "cef2e0da-181a-4ae0-a3b5-e01fb75e917f",
   "metadata": {},
   "outputs": [
    {
     "data": {
      "text/plain": [
       "[('GET',\n",
       "  '/api/v1/items?page=3',\n",
       "  '[16/Apr/2019:193453+0000]',\n",
       "  'HTTP/1.1',\n",
       "  '429',\n",
       "  '3561',\n",
       "  '',\n",
       "  '',\n",
       "  '')]"
      ]
     },
     "execution_count": 14,
     "metadata": {},
     "output_type": "execute_result"
    }
   ],
   "source": [
    "logline = 'GET /api/v1/items?page=3 [16/Apr/2019:193453+0000] HTTP/1.1 {429} 3561'\n",
    "\n",
    "\n",
    "regex = r'''\n",
    "(^[A-Z]*)\\s\n",
    "(/\\S*)\\s\n",
    "(\\[\\S+\\])\\s\n",
    "([A-Z]*\\/\\d.\\d)\\s\n",
    "\\{(\\d{3})\\}\\s\n",
    "(\\d+)(\\s\n",
    "\\\"(.+)\\\"\\s\n",
    "(\\d+.\\d+.\\d+.\\d+))?\n",
    "'''\n",
    "\n",
    "# created optional last few arguements with ()? outside it\n",
    "\n",
    "re.findall(regex, logline, re.VERBOSE)"
   ]
  },
  {
   "cell_type": "code",
   "execution_count": 15,
   "id": "f3b339ce-c09d-4710-bcdc-3ef741970167",
   "metadata": {},
   "outputs": [
    {
     "ename": "AttributeError",
     "evalue": "'NoneType' object has no attribute 'groupdict'",
     "output_type": "error",
     "traceback": [
      "\u001b[0;31m---------------------------------------------------------------------------\u001b[0m",
      "\u001b[0;31mAttributeError\u001b[0m                            Traceback (most recent call last)",
      "\u001b[0;32m<ipython-input-15-7936e3c3a0bf>\u001b[0m in \u001b[0;36m<module>\u001b[0;34m\u001b[0m\n\u001b[1;32m     11\u001b[0m \u001b[0;34m\u001b[0m\u001b[0m\n\u001b[1;32m     12\u001b[0m \u001b[0mmatch\u001b[0m \u001b[0;34m=\u001b[0m \u001b[0mre\u001b[0m\u001b[0;34m.\u001b[0m\u001b[0msearch\u001b[0m\u001b[0;34m(\u001b[0m\u001b[0mregex\u001b[0m\u001b[0;34m,\u001b[0m \u001b[0mlogline\u001b[0m\u001b[0;34m,\u001b[0m \u001b[0mre\u001b[0m\u001b[0;34m.\u001b[0m\u001b[0mVERBOSE\u001b[0m\u001b[0;34m)\u001b[0m \u001b[0;31m# whitespace in the regex is ignored\u001b[0m\u001b[0;34m\u001b[0m\u001b[0;34m\u001b[0m\u001b[0m\n\u001b[0;32m---> 13\u001b[0;31m \u001b[0mmatch\u001b[0m\u001b[0;34m.\u001b[0m\u001b[0mgroupdict\u001b[0m\u001b[0;34m(\u001b[0m\u001b[0;34m)\u001b[0m\u001b[0;34m\u001b[0m\u001b[0;34m\u001b[0m\u001b[0m\n\u001b[0m",
      "\u001b[0;31mAttributeError\u001b[0m: 'NoneType' object has no attribute 'groupdict'"
     ]
    }
   ],
   "source": [
    "regex = r'''\n",
    "(?P<http_method>^[A-Z]*)\\s\n",
    "(?P<endpoint>/\\S*)\\s\n",
    "(?P<timestamp>\\[\\S+\\])\\s\n",
    "(?P<protocol>[A-Z]*\\/\\d.\\d)\\s\n",
    "\\{(?P<status>\\d{3})\\}\\s\n",
    "(?P<size>\\d+)\\s\n",
    "\\\"(?P<request_agent>.+)\\\"\\s\n",
    "(?P<ip_address>\\d+.\\d+.\\d+.\\d+)\n",
    "'''\n",
    "\n",
    "match = re.search(regex, logline, re.VERBOSE) # whitespace in the regex is ignored\n",
    "match.groupdict()"
   ]
  },
  {
   "cell_type": "code",
   "execution_count": null,
   "id": "b497332e-9387-46ab-a65d-5287dbefccaf",
   "metadata": {},
   "outputs": [],
   "source": []
  }
 ],
 "metadata": {
  "kernelspec": {
   "display_name": "Python 3",
   "language": "python",
   "name": "python3"
  },
  "language_info": {
   "codemirror_mode": {
    "name": "ipython",
    "version": 3
   },
   "file_extension": ".py",
   "mimetype": "text/x-python",
   "name": "python",
   "nbconvert_exporter": "python",
   "pygments_lexer": "ipython3",
   "version": "3.8.8"
  }
 },
 "nbformat": 4,
 "nbformat_minor": 5
}
